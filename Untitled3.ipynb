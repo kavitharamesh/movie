{
  "nbformat": 4,
  "nbformat_minor": 0,
  "metadata": {
    "colab": {
      "name": "Untitled3.ipynb",
      "version": "0.3.2",
      "provenance": [],
      "collapsed_sections": [],
      "include_colab_link": true
    },
    "kernelspec": {
      "name": "python3",
      "display_name": "Python 3"
    }
  },
  "cells": [
    {
      "cell_type": "markdown",
      "metadata": {
        "id": "view-in-github",
        "colab_type": "text"
      },
      "source": [
        "<a href=\"https://colab.research.google.com/github/kavitharamesh/movie/blob/master/Untitled3.ipynb\" target=\"_parent\"><img src=\"https://colab.research.google.com/assets/colab-badge.svg\" alt=\"Open In Colab\"/></a>"
      ]
    },
    {
      "metadata": {
        "id": "xq00iQELln8r",
        "colab_type": "code",
        "colab": {}
      },
      "cell_type": "code",
      "source": [
        "import numpy as np # linear algebra\n",
        "import pandas as pd # data processing, CSV file I/O (e.g. pd.read_csv)\n",
        "data = pd.read_csv(\"https://raw.githubusercontent.com/kavitharamesh/movie/master/amazon.csv\")\n",
        "    "
      ],
      "execution_count": 0,
      "outputs": []
    },
    {
      "metadata": {
        "id": "avLdxI5-wJLu",
        "colab_type": "code",
        "colab": {
          "base_uri": "https://localhost:8080/",
          "height": 204
        },
        "outputId": "5a71495c-9338-4cb3-b14c-5cbadd145de3"
      },
      "cell_type": "code",
      "source": [
        "data.head(5)"
      ],
      "execution_count": 6,
      "outputs": [
        {
          "output_type": "execute_result",
          "data": {
            "text/html": [
              "<div>\n",
              "<style scoped>\n",
              "    .dataframe tbody tr th:only-of-type {\n",
              "        vertical-align: middle;\n",
              "    }\n",
              "\n",
              "    .dataframe tbody tr th {\n",
              "        vertical-align: top;\n",
              "    }\n",
              "\n",
              "    .dataframe thead th {\n",
              "        text-align: right;\n",
              "    }\n",
              "</style>\n",
              "<table border=\"1\" class=\"dataframe\">\n",
              "  <thead>\n",
              "    <tr style=\"text-align: right;\">\n",
              "      <th></th>\n",
              "      <th>rating</th>\n",
              "      <th>date</th>\n",
              "      <th>variation</th>\n",
              "      <th>verified_reviews</th>\n",
              "      <th>feedback</th>\n",
              "    </tr>\n",
              "  </thead>\n",
              "  <tbody>\n",
              "    <tr>\n",
              "      <th>0</th>\n",
              "      <td>5</td>\n",
              "      <td>31-Jul-18</td>\n",
              "      <td>Charcoal Fabric</td>\n",
              "      <td>Love my Echo!</td>\n",
              "      <td>1</td>\n",
              "    </tr>\n",
              "    <tr>\n",
              "      <th>1</th>\n",
              "      <td>5</td>\n",
              "      <td>31-Jul-18</td>\n",
              "      <td>Charcoal Fabric</td>\n",
              "      <td>Loved it!</td>\n",
              "      <td>1</td>\n",
              "    </tr>\n",
              "    <tr>\n",
              "      <th>2</th>\n",
              "      <td>4</td>\n",
              "      <td>31-Jul-18</td>\n",
              "      <td>Walnut Finish</td>\n",
              "      <td>Sometimes while playing a game, you can answer...</td>\n",
              "      <td>1</td>\n",
              "    </tr>\n",
              "    <tr>\n",
              "      <th>3</th>\n",
              "      <td>5</td>\n",
              "      <td>31-Jul-18</td>\n",
              "      <td>Charcoal Fabric</td>\n",
              "      <td>I have had a lot of fun with this thing. My 4 ...</td>\n",
              "      <td>1</td>\n",
              "    </tr>\n",
              "    <tr>\n",
              "      <th>4</th>\n",
              "      <td>5</td>\n",
              "      <td>31-Jul-18</td>\n",
              "      <td>Charcoal Fabric</td>\n",
              "      <td>Music</td>\n",
              "      <td>1</td>\n",
              "    </tr>\n",
              "  </tbody>\n",
              "</table>\n",
              "</div>"
            ],
            "text/plain": [
              "   rating       date         variation  \\\n",
              "0       5  31-Jul-18  Charcoal Fabric    \n",
              "1       5  31-Jul-18  Charcoal Fabric    \n",
              "2       4  31-Jul-18    Walnut Finish    \n",
              "3       5  31-Jul-18  Charcoal Fabric    \n",
              "4       5  31-Jul-18  Charcoal Fabric    \n",
              "\n",
              "                                    verified_reviews  feedback  \n",
              "0                                      Love my Echo!         1  \n",
              "1                                          Loved it!         1  \n",
              "2  Sometimes while playing a game, you can answer...         1  \n",
              "3  I have had a lot of fun with this thing. My 4 ...         1  \n",
              "4                                              Music         1  "
            ]
          },
          "metadata": {
            "tags": []
          },
          "execution_count": 6
        }
      ]
    },
    {
      "metadata": {
        "id": "2fyJRmsAwSyA",
        "colab_type": "code",
        "colab": {}
      },
      "cell_type": "code",
      "source": [
        "#There are 5 columns:\n",
        "\n",
        "#1.Rating - Provides the rating for each of the variants of the amazon alexa device.\n",
        "\n",
        "#2.Date - Date when the review , rating was posted.\n",
        "\n",
        "#3.Variation - Amazon Alexa variant.\n",
        "\n",
        "#4.Verified Reviews - Detailed review of the device.\n",
        "\n",
        "#5.Feedback - Numeric number 0 or 1 .I am not sure what this is . Going by the report I guess it should be positive and negative feedback based on the rating.\n",
        "\n"
      ],
      "execution_count": 0,
      "outputs": []
    },
    {
      "metadata": {
        "id": "WFFHfp9awrWW",
        "colab_type": "code",
        "colab": {
          "base_uri": "https://localhost:8080/",
          "height": 297
        },
        "outputId": "97035cf0-d973-4544-ebfb-0cf73739f299"
      },
      "cell_type": "code",
      "source": [
        "data.describe()"
      ],
      "execution_count": 7,
      "outputs": [
        {
          "output_type": "execute_result",
          "data": {
            "text/html": [
              "<div>\n",
              "<style scoped>\n",
              "    .dataframe tbody tr th:only-of-type {\n",
              "        vertical-align: middle;\n",
              "    }\n",
              "\n",
              "    .dataframe tbody tr th {\n",
              "        vertical-align: top;\n",
              "    }\n",
              "\n",
              "    .dataframe thead th {\n",
              "        text-align: right;\n",
              "    }\n",
              "</style>\n",
              "<table border=\"1\" class=\"dataframe\">\n",
              "  <thead>\n",
              "    <tr style=\"text-align: right;\">\n",
              "      <th></th>\n",
              "      <th>rating</th>\n",
              "      <th>feedback</th>\n",
              "    </tr>\n",
              "  </thead>\n",
              "  <tbody>\n",
              "    <tr>\n",
              "      <th>count</th>\n",
              "      <td>3150.000000</td>\n",
              "      <td>3150.000000</td>\n",
              "    </tr>\n",
              "    <tr>\n",
              "      <th>mean</th>\n",
              "      <td>4.463175</td>\n",
              "      <td>0.918413</td>\n",
              "    </tr>\n",
              "    <tr>\n",
              "      <th>std</th>\n",
              "      <td>1.068506</td>\n",
              "      <td>0.273778</td>\n",
              "    </tr>\n",
              "    <tr>\n",
              "      <th>min</th>\n",
              "      <td>1.000000</td>\n",
              "      <td>0.000000</td>\n",
              "    </tr>\n",
              "    <tr>\n",
              "      <th>25%</th>\n",
              "      <td>4.000000</td>\n",
              "      <td>1.000000</td>\n",
              "    </tr>\n",
              "    <tr>\n",
              "      <th>50%</th>\n",
              "      <td>5.000000</td>\n",
              "      <td>1.000000</td>\n",
              "    </tr>\n",
              "    <tr>\n",
              "      <th>75%</th>\n",
              "      <td>5.000000</td>\n",
              "      <td>1.000000</td>\n",
              "    </tr>\n",
              "    <tr>\n",
              "      <th>max</th>\n",
              "      <td>5.000000</td>\n",
              "      <td>1.000000</td>\n",
              "    </tr>\n",
              "  </tbody>\n",
              "</table>\n",
              "</div>"
            ],
            "text/plain": [
              "            rating     feedback\n",
              "count  3150.000000  3150.000000\n",
              "mean      4.463175     0.918413\n",
              "std       1.068506     0.273778\n",
              "min       1.000000     0.000000\n",
              "25%       4.000000     1.000000\n",
              "50%       5.000000     1.000000\n",
              "75%       5.000000     1.000000\n",
              "max       5.000000     1.000000"
            ]
          },
          "metadata": {
            "tags": []
          },
          "execution_count": 7
        }
      ]
    },
    {
      "metadata": {
        "id": "ikaQ1TI7w_-U",
        "colab_type": "code",
        "colab": {}
      },
      "cell_type": "code",
      "source": [
        "#From the summary of the data we see that there are no null values and the data is very clean .\n",
        "#The average rating is 4.46 which is close to the maximum value.It is seen that most of the users have left positive reviews and are happy with the device .\n",
        "#Lets plot the countplot of the ratings."
      ],
      "execution_count": 0,
      "outputs": []
    },
    {
      "metadata": {
        "id": "Dp--KjCwxHHO",
        "colab_type": "code",
        "colab": {
          "base_uri": "https://localhost:8080/",
          "height": 563
        },
        "outputId": "673c6075-d341-4cae-8c04-9ac3567ae14c"
      },
      "cell_type": "code",
      "source": [
        "import matplotlib.pyplot as plt\n",
        "import seaborn as sns\n",
        "plt.figure(figsize=(8,8))\n",
        "ax=sns.countplot(data['rating'],palette=sns.color_palette(palette=\"viridis_r\"))\n",
        "ax.set_title(\"Distribution of the Amazon Alexa Rating\")\n",
        "ax.set_xlabel(\"Rating\")\n",
        "ax.set_ylabel(\"Count\")"
      ],
      "execution_count": 10,
      "outputs": [
        {
          "output_type": "stream",
          "text": [
            "/usr/local/lib/python3.6/dist-packages/seaborn/categorical.py:1428: FutureWarning: remove_na is deprecated and is a private function. Do not use.\n",
            "  stat_data = remove_na(group_data)\n"
          ],
          "name": "stderr"
        },
        {
          "output_type": "execute_result",
          "data": {
            "text/plain": [
              "Text(0, 0.5, 'Count')"
            ]
          },
          "metadata": {
            "tags": []
          },
          "execution_count": 10
        },
        {
          "output_type": "display_data",
          "data": {
            "image/png": "[encoded data removed]",
            "text/plain": [
              "<Figure size 576x576 with 1 Axes>"
            ]
          },
          "metadata": {
            "tags": []
          }
        }
      ]
    },
    {
      "metadata": {
        "id": "EKTZRiIuxspW",
        "colab_type": "code",
        "colab": {}
      },
      "cell_type": "code",
      "source": [
        "#From the countplot it is seen that there are more 5 ratings followed by 4 ratings .Lets check the average ratings by variant.\n"
      ],
      "execution_count": 0,
      "outputs": []
    },
    {
      "metadata": {
        "id": "3bZLI1Ljycz9",
        "colab_type": "code",
        "colab": {
          "base_uri": "https://localhost:8080/",
          "height": 204
        },
        "outputId": "22af747f-13e8-4870-c793-534db33fd1dd"
      },
      "cell_type": "code",
      "source": [
        "variant_rating=data.groupby('variation')['rating'].mean().reset_index()\n",
        "variant_rating.head()\n"
      ],
      "execution_count": 11,
      "outputs": [
        {
          "output_type": "execute_result",
          "data": {
            "text/html": [
              "<div>\n",
              "<style scoped>\n",
              "    .dataframe tbody tr th:only-of-type {\n",
              "        vertical-align: middle;\n",
              "    }\n",
              "\n",
              "    .dataframe tbody tr th {\n",
              "        vertical-align: top;\n",
              "    }\n",
              "\n",
              "    .dataframe thead th {\n",
              "        text-align: right;\n",
              "    }\n",
              "</style>\n",
              "<table border=\"1\" class=\"dataframe\">\n",
              "  <thead>\n",
              "    <tr style=\"text-align: right;\">\n",
              "      <th></th>\n",
              "      <th>variation</th>\n",
              "      <th>rating</th>\n",
              "    </tr>\n",
              "  </thead>\n",
              "  <tbody>\n",
              "    <tr>\n",
              "      <th>0</th>\n",
              "      <td>Black</td>\n",
              "      <td>4.233716</td>\n",
              "    </tr>\n",
              "    <tr>\n",
              "      <th>1</th>\n",
              "      <td>Black  Dot</td>\n",
              "      <td>4.453488</td>\n",
              "    </tr>\n",
              "    <tr>\n",
              "      <th>2</th>\n",
              "      <td>Black  Plus</td>\n",
              "      <td>4.370370</td>\n",
              "    </tr>\n",
              "    <tr>\n",
              "      <th>3</th>\n",
              "      <td>Black  Show</td>\n",
              "      <td>4.490566</td>\n",
              "    </tr>\n",
              "    <tr>\n",
              "      <th>4</th>\n",
              "      <td>Black  Spot</td>\n",
              "      <td>4.311203</td>\n",
              "    </tr>\n",
              "  </tbody>\n",
              "</table>\n",
              "</div>"
            ],
            "text/plain": [
              "     variation    rating\n",
              "0        Black  4.233716\n",
              "1   Black  Dot  4.453488\n",
              "2  Black  Plus  4.370370\n",
              "3  Black  Show  4.490566\n",
              "4  Black  Spot  4.311203"
            ]
          },
          "metadata": {
            "tags": []
          },
          "execution_count": 11
        }
      ]
    },
    {
      "metadata": {
        "id": "Fq5yR29Ay0im",
        "colab_type": "code",
        "colab": {
          "base_uri": "https://localhost:8080/",
          "height": 675
        },
        "outputId": "d785c21e-f285-4706-b14a-539ba45f33bd"
      },
      "cell_type": "code",
      "source": [
        "plt.figure(figsize=(8,8))\n",
        "ax=sns.barplot(x='variation',y='rating',data=variant_rating,palette=sns.color_palette(palette=\"viridis_r\"))\n",
        "ax.set_title(\"Average Rating based on Alexa Variant\")\n",
        "ax.set_xticklabels(ax.get_xticklabels(),rotation=90)\n",
        "ax.set_xlabel(\"Rating\")\n",
        "ax.set_ylabel(\"Count\")"
      ],
      "execution_count": 12,
      "outputs": [
        {
          "output_type": "stream",
          "text": [
            "/usr/local/lib/python3.6/dist-packages/seaborn/categorical.py:1428: FutureWarning: remove_na is deprecated and is a private function. Do not use.\n",
            "  stat_data = remove_na(group_data)\n"
          ],
          "name": "stderr"
        },
        {
          "output_type": "execute_result",
          "data": {
            "text/plain": [
              "Text(0, 0.5, 'Count')"
            ]
          },
          "metadata": {
            "tags": []
          },
          "execution_count": 12
        },
        {
          "output_type": "display_data",
          "data": {
            "image/png": "[encoded data removed]",
            "text/plain": [
              "<Figure size 576x576 with 1 Axes>"
            ]
          },
          "metadata": {
            "tags": []
          }
        }
      ]
    },
    {
      "metadata": {
        "id": "RJSfOGE6zLrp",
        "colab_type": "code",
        "colab": {}
      },
      "cell_type": "code",
      "source": [
        "#Lets check the top 3 most positive and top 3 most negative reviews."
      ],
      "execution_count": 0,
      "outputs": []
    },
    {
      "metadata": {
        "id": "KBmddBp8zO2N",
        "colab_type": "code",
        "colab": {
          "base_uri": "https://localhost:8080/",
          "height": 204
        },
        "outputId": "de9c889b-788e-45e2-8500-2393285d310e"
      },
      "cell_type": "code",
      "source": [
        "rating_review=data.sort_values(by='rating',ascending=False)\n",
        "rating_review.head()"
      ],
      "execution_count": 15,
      "outputs": [
        {
          "output_type": "execute_result",
          "data": {
            "text/html": [
              "<div>\n",
              "<style scoped>\n",
              "    .dataframe tbody tr th:only-of-type {\n",
              "        vertical-align: middle;\n",
              "    }\n",
              "\n",
              "    .dataframe tbody tr th {\n",
              "        vertical-align: top;\n",
              "    }\n",
              "\n",
              "    .dataframe thead th {\n",
              "        text-align: right;\n",
              "    }\n",
              "</style>\n",
              "<table border=\"1\" class=\"dataframe\">\n",
              "  <thead>\n",
              "    <tr style=\"text-align: right;\">\n",
              "      <th></th>\n",
              "      <th>rating</th>\n",
              "      <th>date</th>\n",
              "      <th>variation</th>\n",
              "      <th>verified_reviews</th>\n",
              "      <th>feedback</th>\n",
              "    </tr>\n",
              "  </thead>\n",
              "  <tbody>\n",
              "    <tr>\n",
              "      <th>0</th>\n",
              "      <td>5</td>\n",
              "      <td>31-Jul-18</td>\n",
              "      <td>Charcoal Fabric</td>\n",
              "      <td>Love my Echo!</td>\n",
              "      <td>1</td>\n",
              "    </tr>\n",
              "    <tr>\n",
              "      <th>1600</th>\n",
              "      <td>5</td>\n",
              "      <td>29-Jul-18</td>\n",
              "      <td>Black  Show</td>\n",
              "      <td>Love it. Thanks Amazon. You guys rock!!</td>\n",
              "      <td>1</td>\n",
              "    </tr>\n",
              "    <tr>\n",
              "      <th>1580</th>\n",
              "      <td>5</td>\n",
              "      <td>29-Jul-18</td>\n",
              "      <td>Black  Show</td>\n",
              "      <td>Works great, video call function nice when com...</td>\n",
              "      <td>1</td>\n",
              "    </tr>\n",
              "    <tr>\n",
              "      <th>1581</th>\n",
              "      <td>5</td>\n",
              "      <td>29-Jul-18</td>\n",
              "      <td>Black  Show</td>\n",
              "      <td></td>\n",
              "      <td>1</td>\n",
              "    </tr>\n",
              "    <tr>\n",
              "      <th>1582</th>\n",
              "      <td>5</td>\n",
              "      <td>29-Jul-18</td>\n",
              "      <td>Black  Show</td>\n",
              "      <td>As you can see Echo Show is in kitchen. It far...</td>\n",
              "      <td>1</td>\n",
              "    </tr>\n",
              "  </tbody>\n",
              "</table>\n",
              "</div>"
            ],
            "text/plain": [
              "      rating       date         variation  \\\n",
              "0          5  31-Jul-18  Charcoal Fabric    \n",
              "1600       5  29-Jul-18       Black  Show   \n",
              "1580       5  29-Jul-18       Black  Show   \n",
              "1581       5  29-Jul-18       Black  Show   \n",
              "1582       5  29-Jul-18       Black  Show   \n",
              "\n",
              "                                       verified_reviews  feedback  \n",
              "0                                         Love my Echo!         1  \n",
              "1600            Love it. Thanks Amazon. You guys rock!!         1  \n",
              "1580  Works great, video call function nice when com...         1  \n",
              "1581                                                            1  \n",
              "1582  As you can see Echo Show is in kitchen. It far...         1  "
            ]
          },
          "metadata": {
            "tags": []
          },
          "execution_count": 15
        }
      ]
    },
    {
      "metadata": {
        "id": "N06aXm9FzefP",
        "colab_type": "code",
        "colab": {
          "base_uri": "https://localhost:8080/",
          "height": 241
        },
        "outputId": "db1a2ab8-aa0d-4f37-f77a-95de4447ddf9"
      },
      "cell_type": "code",
      "source": [
        "for i in rating_review['verified_reviews'].iloc[:6]:\n",
        "    print(i, '\\n')"
      ],
      "execution_count": 16,
      "outputs": [
        {
          "output_type": "stream",
          "text": [
            "Love my Echo! \n",
            "\n",
            "Love it. Thanks Amazon. You guys rock!! \n",
            "\n",
            "Works great, video call function nice when communicating through drop-in \n",
            "\n",
            "  \n",
            "\n",
            "As you can see Echo Show is in kitchen. It far exceeds my expectation. There’s a wealth of information about any topic. If is customizable for sound and video. I also have Echo and Echo Dot. You can group them and have hole house music. Still not done exploring all it can do love it. Perfect for getting recipes so you can see them while you’re preparing to cook. \n",
            "\n",
            "Absolutely LOVE my Echo Show!  It is awesome and works great with my Ring Video Spotlight Cams!  Music on demand and so many more features that I have yet to explore!!! \n",
            "\n"
          ],
          "name": "stdout"
        }
      ]
    },
    {
      "metadata": {
        "id": "WT18RB8q0EA8",
        "colab_type": "code",
        "colab": {
          "base_uri": "https://localhost:8080/",
          "height": 241
        },
        "outputId": "6fd75229-c473-4967-cb6b-18e54367d0e4"
      },
      "cell_type": "code",
      "source": [
        "for i in rating_review['verified_reviews'].iloc[-6:]:\n",
        "    print(i, '\\n')"
      ],
      "execution_count": 17,
      "outputs": [
        {
          "output_type": "stream",
          "text": [
            "The tech isn’t there. It doesn’t understand most common words and is basically a glorified radio \n",
            "\n",
            "great product, but useless overall. Too many unnecessary features. Unless you have a smart home you don't need it \n",
            "\n",
            "  \n",
            "\n",
            "So far not impressed at all. Does not save groups correctly can not understand me most of the time I'm not sure what the excitement is all about. Alexas voice sounds like it's under water how am I supposed to understand!!!!I'm going to return and try a google home!!! \n",
            "\n",
            "Very bad this device, I don’t know if it’s because is refurbished or what but it activated by itself , nobody is talking and he just activated and start talking. When you talk you have to yell super lauded \n",
            "\n",
            "The sound on these is terrible. It’s like a tin can. I love my echo but this item is awful. \n",
            "\n"
          ],
          "name": "stdout"
        }
      ]
    },
    {
      "metadata": {
        "id": "MSEIlZUx0Ger",
        "colab_type": "code",
        "colab": {}
      },
      "cell_type": "code",
      "source": [
        "import warnings\n",
        "import string\n",
        "import itertools\n",
        "\n",
        "import nltk\n",
        "from nltk.corpus import stopwords\n",
        "from sklearn.naive_bayes import MultinomialNB\n",
        "from sklearn.linear_model import LogisticRegression\n",
        "from sklearn.feature_extraction.text import TfidfTransformer\n",
        "from sklearn.feature_extraction.text import CountVectorizer\n",
        "from sklearn.model_selection import train_test_split\n",
        "from sklearn.metrics import confusion_matrix\n",
        "from sklearn import metrics\n",
        "from sklearn.metrics import roc_curve, auc,accuracy_score\n",
        "from nltk.stem.porter import PorterStemmer\n",
        "warnings.filterwarnings(\"ignore\")\n",
        "#nltk.download('punkt')\n"
      ],
      "execution_count": 0,
      "outputs": []
    },
    {
      "metadata": {
        "id": "rFzzRPOP0w4P",
        "colab_type": "code",
        "colab": {
          "base_uri": "https://localhost:8080/",
          "height": 401
        },
        "outputId": "c1ea059f-bab1-4344-f443-7cdeb0f787c2"
      },
      "cell_type": "code",
      "source": [
        "rating_review['date'] = pd.to_datetime(rating_review['date'], errors='coerce')\n",
        "month_count = rating_review['date'].dt.month.value_counts()\n",
        "month_count = month_count.sort_index()\n",
        "plt.figure(figsize=(9,6))\n",
        "sns.barplot(month_count.index, month_count.values,color='green',alpha=0.4)\n",
        "plt.xticks(rotation='vertical')\n",
        "plt.xlabel('Month', fontsize=12)\n",
        "plt.ylabel('Count', fontsize=12)\n",
        "plt.title(\"Reviews per Month\")\n",
        "plt.show()"
      ],
      "execution_count": 36,
      "outputs": [
        {
          "output_type": "display_data",
          "data": {
            "image/png": "[encoded data removed]",
            "text/plain": [
              "<Figure size 648x432 with 1 Axes>"
            ]
          },
          "metadata": {
            "tags": []
          }
        }
      ]
    },
    {
      "metadata": {
        "id": "qqX3SK2L1PGm",
        "colab_type": "code",
        "colab": {
          "base_uri": "https://localhost:8080/",
          "height": 448
        },
        "outputId": "096cd3b7-54f2-41e4-b629-11fe2607fe2a"
      },
      "cell_type": "code",
      "source": [
        "weekday_count = rating_review['date'].dt.weekday_name.value_counts()\n",
        "weekday_count = weekday_count.sort_index()\n",
        "plt.figure(figsize=(9,6))\n",
        "sns.barplot(weekday_count.index, weekday_count.values,color='green',alpha=0.4,order=['Sunday','Monday','Tuesday','Wednesday','Thursday','Friday','Saturday'])\n",
        "plt.xticks(rotation='vertical')\n",
        "plt.xlabel('Weekday', fontsize=12)\n",
        "plt.ylabel('Count', fontsize=12)\n",
        "plt.title(\"Reviews by Weekday\")\n",
        "plt.show()"
      ],
      "execution_count": 41,
      "outputs": [
        {
          "output_type": "display_data",
          "data": {
            "image/png": "[encoded data removed]",
            "text/plain": [
              "<Figure size 648x432 with 1 Axes>"
            ]
          },
          "metadata": {
            "tags": []
          }
        }
      ]
    },
    {
      "metadata": {
        "id": "wzyy3ll21UAn",
        "colab_type": "code",
        "colab": {
          "base_uri": "https://localhost:8080/",
          "height": 482
        },
        "outputId": "d3164475-1ad5-4716-e719-db00dbc6faa0"
      },
      "cell_type": "code",
      "source": [
        "#The number of reviews written are more on Mondays than any other days of the week .Let us see the if the average rating differs by the day of the week.#rating_review['weekday']=rating_review['date'].dt.weekday_name\n",
        "avg_weekday=rating_review.groupby('weekday')['rating'].mean()\n",
        "plt.figure(figsize=(9,6))\n",
        "sns.barplot(avg_weekday.index, avg_weekday.values,color='green',alpha=0.4,order=['Sunday','Monday','Tuesday','Wednesday','Thursday','Friday','Saturday'])\n",
        "plt.xticks(rotation='vertical')\n",
        "plt.xlabel('Weekday', fontsize=12)\n",
        "plt.ylabel('Avg Rating', fontsize=12)\n",
        "plt.title(\"Average Rating over the day\")\n",
        "plt.show()"
      ],
      "execution_count": 25,
      "outputs": [
        {
          "output_type": "stream",
          "text": [
            "/usr/local/lib/python3.6/dist-packages/seaborn/categorical.py:1428: FutureWarning: remove_na is deprecated and is a private function. Do not use.\n",
            "  stat_data = remove_na(group_data)\n"
          ],
          "name": "stderr"
        },
        {
          "output_type": "display_data",
          "data": {
            "image/png": "[encoded data removed]",
            "text/plain": [
              "<Figure size 648x432 with 1 Axes>"
            ]
          },
          "metadata": {
            "tags": []
          }
        }
      ]
    },
    {
      "metadata": {
        "id": "l9ub1ObP10ce",
        "colab_type": "code",
        "colab": {}
      },
      "cell_type": "code",
      "source": [
        "#We have been provided with the rating score for each reviews . Using this I create a sentiment score - either positive or negative . I am interested to create a model that would predict these sentiment given the review text . I split the dataset into training and test . Given the small number of samples , I split the data 80-20 ratio.\n",
        "#Before that I create the sentiment type variable using the score."
      ],
      "execution_count": 0,
      "outputs": []
    },
    {
      "metadata": {
        "id": "S-rLGBYT2LQn",
        "colab_type": "code",
        "colab": {}
      },
      "cell_type": "code",
      "source": [
        "def sentiment(x):\n",
        "    if x > 3:\n",
        "        return 'positive'\n",
        "    else:\n",
        "        return 'negative'\n",
        "        "
      ],
      "execution_count": 0,
      "outputs": []
    },
    {
      "metadata": {
        "id": "PS9h0Qon2PuP",
        "colab_type": "code",
        "colab": {}
      },
      "cell_type": "code",
      "source": [
        "rating = rating_review['rating']\n",
        "rating=rating.map(sentiment)\n",
        "review=rating_review['verified_reviews']"
      ],
      "execution_count": 0,
      "outputs": []
    },
    {
      "metadata": {
        "id": "Q7XEPhqN2VyE",
        "colab_type": "code",
        "colab": {
          "base_uri": "https://localhost:8080/",
          "height": 102
        },
        "outputId": "0189b3a1-ccca-4786-a4f4-4afe8f3ab11f"
      },
      "cell_type": "code",
      "source": [
        "rating.describe()"
      ],
      "execution_count": 44,
      "outputs": [
        {
          "output_type": "execute_result",
          "data": {
            "text/plain": [
              "count         3150\n",
              "unique           2\n",
              "top       positive\n",
              "freq          2741\n",
              "Name: rating, dtype: object"
            ]
          },
          "metadata": {
            "tags": []
          },
          "execution_count": 44
        }
      ]
    },
    {
      "metadata": {
        "id": "t-pprGlv2cBU",
        "colab_type": "code",
        "colab": {}
      },
      "cell_type": "code",
      "source": [
        "#We see that there are 2741 positive reviews .Now lets split the dataset into train and test.\n",
        "\n"
      ],
      "execution_count": 0,
      "outputs": []
    },
    {
      "metadata": {
        "id": "I6W3CAv32jC3",
        "colab_type": "code",
        "colab": {}
      },
      "cell_type": "code",
      "source": [
        "X_train,X_test,y_train,y_test=train_test_split(review,rating,test_size=0.2,stratify=rating,random_state=100)"
      ],
      "execution_count": 0,
      "outputs": []
    },
    {
      "metadata": {
        "id": "HRSR5aQR2o1a",
        "colab_type": "code",
        "colab": {
          "base_uri": "https://localhost:8080/",
          "height": 34
        },
        "outputId": "1b2505f0-cf46-4b2f-e70f-da97cba7fdea"
      },
      "cell_type": "code",
      "source": [
        "print(\"Shape of train is {} and shape of test is {}\".format(X_train.shape,X_test.shape));"
      ],
      "execution_count": 46,
      "outputs": [
        {
          "output_type": "stream",
          "text": [
            "Shape of train is (2520,) and shape of test is (630,)\n"
          ],
          "name": "stdout"
        }
      ]
    },
    {
      "metadata": {
        "id": "Uq7RuQZh499z",
        "colab_type": "code",
        "colab": {}
      },
      "cell_type": "code",
      "source": [
        "import warnings\n",
        "import string\n",
        "import itertools\n",
        "\n",
        "import nltk\n",
        "from nltk.corpus import stopwords\n",
        "from sklearn.naive_bayes import MultinomialNB\n",
        "from sklearn.linear_model import LogisticRegression\n",
        "from sklearn.feature_extraction.text import TfidfTransformer\n",
        "from sklearn.feature_extraction.text import CountVectorizer\n",
        "from sklearn.model_selection import train_test_split\n",
        "from sklearn.metrics import confusion_matrix\n",
        "from sklearn import metrics\n",
        "from sklearn.metrics import roc_curve, auc,accuracy_score\n",
        "from nltk.stem.porter import PorterStemmer\n",
        "warnings.filterwarnings(\"ignore\")\n",
        "#nltk.download('punkt')"
      ],
      "execution_count": 0,
      "outputs": []
    },
    {
      "metadata": {
        "id": "lJDIIfvn9n2v",
        "colab_type": "code",
        "colab": {}
      },
      "cell_type": "code",
      "source": [
        "stemmer = PorterStemmer()"
      ],
      "execution_count": 0,
      "outputs": []
    },
    {
      "metadata": {
        "id": "T0vFA94m9pgB",
        "colab_type": "code",
        "colab": {}
      },
      "cell_type": "code",
      "source": [
        "def stem_tokens(tokens, stemmer):\n",
        "    stemmed = []\n",
        "    for item in tokens:\n",
        "        stemmed.append(stemmer.stem(item))\n",
        "    return stemmed"
      ],
      "execution_count": 0,
      "outputs": []
    },
    {
      "metadata": {
        "id": "joQAyC5y9vxn",
        "colab_type": "code",
        "colab": {}
      },
      "cell_type": "code",
      "source": [
        "def tokenize(text):\n",
        "    tokens = nltk.word_tokenize(text)\n",
        "    tokens = [word for word in tokens if word not in nltk.corpus.stopwords.words('english')]\n",
        "    stems = stem_tokens(tokens, stemmer)\n",
        "    return ' '.join(stems)\n"
      ],
      "execution_count": 0,
      "outputs": []
    },
    {
      "metadata": {
        "id": "DlbOeG1a90Nz",
        "colab_type": "code",
        "colab": {}
      },
      "cell_type": "code",
      "source": [
        "intab = string.punctuation\n",
        "outtab = \"                                \"\n",
        "trantab = str.maketrans(intab, outtab)  ### Remove the punctuations "
      ],
      "execution_count": 0,
      "outputs": []
    },
    {
      "metadata": {
        "id": "aQEzMdaG_rQf",
        "colab_type": "code",
        "colab": {}
      },
      "cell_type": "code",
      "source": [
        "corpus = []\n",
        "for text in X_train:\n",
        "    text = text.lower()\n",
        "    text = text.translate(trantab)\n",
        "    #text=tokenize(text)\n",
        "    corpus.append(text)"
      ],
      "execution_count": 0,
      "outputs": []
    },
    {
      "metadata": {
        "id": "s3QBrWUm_wbY",
        "colab_type": "code",
        "colab": {
          "base_uri": "https://localhost:8080/",
          "height": 122
        },
        "outputId": "c25d1ff5-4e1f-4638-b409-cf111c419fa9"
      },
      "cell_type": "code",
      "source": [
        "corpus[:5]"
      ],
      "execution_count": 60,
      "outputs": [
        {
          "output_type": "execute_result",
          "data": {
            "text/plain": [
              "['best thing i ve invested in in a while thank you so much 😁😁😁😁',\n",
              " 'love it just wish i could play my amazon music on both my devices without having to buy an additional subscription',\n",
              " 'the best part about owning this is that my mother who is anti technology uses this with ease everyday and finds new reasons to use it as well  well done ',\n",
              " 'great product and i would give 5 stars   but you can t scroll face cards without having the stupid   34 try and ask alexa  34  suggestions pop up   yes you can have it scroll once  and just stay on the clock  but i like having other cards as well  god its the worst and so irritating   i got it super cheap  so i just face the screen toward the wall and treat it like a dot instead of a spot   what a dumb move on amazons\\u200b part ',\n",
              " 'i liked it  perfect size  the screen is really clear   and elegant ']"
            ]
          },
          "metadata": {
            "tags": []
          },
          "execution_count": 60
        }
      ]
    },
    {
      "metadata": {
        "id": "NphTttKW_1LC",
        "colab_type": "code",
        "colab": {}
      },
      "cell_type": "code",
      "source": [
        "count_vect = CountVectorizer()\n",
        "X_train_counts = count_vect.fit_transform(corpus)        \n",
        "        \n",
        "tfidf_transformer = TfidfTransformer()\n",
        "X_train_tfidf = tfidf_transformer.fit_transform(X_train_counts)"
      ],
      "execution_count": 0,
      "outputs": []
    },
    {
      "metadata": {
        "id": "opuKCfvE_5x0",
        "colab_type": "code",
        "colab": {}
      },
      "cell_type": "code",
      "source": [
        "#--- Test set\n",
        "\n",
        "test_set = []\n",
        "for text in X_test:\n",
        "    text = text.lower()\n",
        "    text = text.translate(trantab)\n",
        "    # text=tokenize(text)\n",
        "    test_set.append(text)\n",
        "\n",
        "X_new_counts = count_vect.transform(test_set)\n",
        "X_test_tfidf = tfidf_transformer.transform(X_new_counts)\n",
        "\n",
        "prediction = dict()"
      ],
      "execution_count": 0,
      "outputs": []
    },
    {
      "metadata": {
        "id": "O7KB4VuzABSq",
        "colab_type": "code",
        "colab": {}
      },
      "cell_type": "code",
      "source": [
        "#Applying Naive Bayes Model:¶\n",
        "model =MultinomialNB()\n",
        "model.fit(X_train_tfidf,y_train)\n",
        "prediction['Naive Bayes']=model.predict(X_test_tfidf)"
      ],
      "execution_count": 0,
      "outputs": []
    },
    {
      "metadata": {
        "id": "e3fkDKqZAJQv",
        "colab_type": "code",
        "colab": {
          "base_uri": "https://localhost:8080/",
          "height": 34
        },
        "outputId": "61e2b9b3-e326-43d0-8a21-21b682712fb9"
      },
      "cell_type": "code",
      "source": [
        "print(accuracy_score(y_test,prediction['Naive Bayes']))\n",
        "#The accuracy of the model is 86 % . Lets plot the confusion matrix for naive bayes."
      ],
      "execution_count": 66,
      "outputs": [
        {
          "output_type": "stream",
          "text": [
            "0.8682539682539683\n"
          ],
          "name": "stdout"
        }
      ]
    },
    {
      "metadata": {
        "id": "Cb4d6CE8AuHr",
        "colab_type": "code",
        "colab": {
          "base_uri": "https://localhost:8080/",
          "height": 173
        },
        "outputId": "ef79ce67-bc2e-453c-9e24-0373e44ae822"
      },
      "cell_type": "code",
      "source": [
        "df_confusion = pd.crosstab(y_test,prediction['Naive Bayes'], rownames=['Actual'], colnames=['Predicted'], margins=True)\n",
        "df_confusion"
      ],
      "execution_count": 67,
      "outputs": [
        {
          "output_type": "execute_result",
          "data": {
            "text/html": [
              "<div>\n",
              "<style scoped>\n",
              "    .dataframe tbody tr th:only-of-type {\n",
              "        vertical-align: middle;\n",
              "    }\n",
              "\n",
              "    .dataframe tbody tr th {\n",
              "        vertical-align: top;\n",
              "    }\n",
              "\n",
              "    .dataframe thead th {\n",
              "        text-align: right;\n",
              "    }\n",
              "</style>\n",
              "<table border=\"1\" class=\"dataframe\">\n",
              "  <thead>\n",
              "    <tr style=\"text-align: right;\">\n",
              "      <th>Predicted</th>\n",
              "      <th>negative</th>\n",
              "      <th>positive</th>\n",
              "      <th>All</th>\n",
              "    </tr>\n",
              "    <tr>\n",
              "      <th>Actual</th>\n",
              "      <th></th>\n",
              "      <th></th>\n",
              "      <th></th>\n",
              "    </tr>\n",
              "  </thead>\n",
              "  <tbody>\n",
              "    <tr>\n",
              "      <th>negative</th>\n",
              "      <td>0</td>\n",
              "      <td>82</td>\n",
              "      <td>82</td>\n",
              "    </tr>\n",
              "    <tr>\n",
              "      <th>positive</th>\n",
              "      <td>1</td>\n",
              "      <td>547</td>\n",
              "      <td>548</td>\n",
              "    </tr>\n",
              "    <tr>\n",
              "      <th>All</th>\n",
              "      <td>1</td>\n",
              "      <td>629</td>\n",
              "      <td>630</td>\n",
              "    </tr>\n",
              "  </tbody>\n",
              "</table>\n",
              "</div>"
            ],
            "text/plain": [
              "Predicted  negative  positive  All\n",
              "Actual                            \n",
              "negative          0        82   82\n",
              "positive          1       547  548\n",
              "All               1       629  630"
            ]
          },
          "metadata": {
            "tags": []
          },
          "execution_count": 67
        }
      ]
    },
    {
      "metadata": {
        "id": "v75c3hfbA0O2",
        "colab_type": "code",
        "colab": {}
      },
      "cell_type": "code",
      "source": [
        "#From the confusion matrix , it is understood that the model is good at predicting positive reviews more strongly than the negative reviews.All the negative reviews are predicted as positive .This is because the dataset is imbalanced with most of the reviews being positive .\n",
        "#Sampling methods need to be applied to improve the confusion matrix ."
      ],
      "execution_count": 0,
      "outputs": []
    },
    {
      "metadata": {
        "id": "b6_GAdVFA7_k",
        "colab_type": "code",
        "colab": {}
      },
      "cell_type": "code",
      "source": [
        "model = LogisticRegression()\n",
        "model.fit(X_train_tfidf,y_train)\n",
        "prediction['Logit']=model.predict(X_test_tfidf)"
      ],
      "execution_count": 0,
      "outputs": []
    },
    {
      "metadata": {
        "id": "reDRV_X4BAvz",
        "colab_type": "code",
        "colab": {
          "base_uri": "https://localhost:8080/",
          "height": 34
        },
        "outputId": "d6713180-7e0b-4068-8706-85e66c8ca40c"
      },
      "cell_type": "code",
      "source": [
        "print(accuracy_score(y_test,prediction['Logit']))"
      ],
      "execution_count": 70,
      "outputs": [
        {
          "output_type": "stream",
          "text": [
            "0.8777777777777778\n"
          ],
          "name": "stdout"
        }
      ]
    },
    {
      "metadata": {
        "id": "DiSzDri8BKAn",
        "colab_type": "code",
        "colab": {}
      },
      "cell_type": "code",
      "source": [
        "#The accuracy from the logit is slightly higher - 87 %."
      ],
      "execution_count": 0,
      "outputs": []
    }
  ]
}